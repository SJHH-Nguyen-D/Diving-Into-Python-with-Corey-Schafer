{
 "cells": [
  {
   "cell_type": "code",
   "execution_count": 1,
   "metadata": {},
   "outputs": [],
   "source": [
    "import pandas as pd\n",
    "import numpy as np"
   ]
  },
  {
   "cell_type": "code",
   "execution_count": 2,
   "metadata": {},
   "outputs": [],
   "source": [
    "df = pd.read_csv('http://bit.ly/imdbratings')"
   ]
  },
  {
   "cell_type": "code",
   "execution_count": 31,
   "metadata": {
    "scrolled": true
   },
   "outputs": [
    {
     "data": {
      "text/html": [
       "<div>\n",
       "<style scoped>\n",
       "    .dataframe tbody tr th:only-of-type {\n",
       "        vertical-align: middle;\n",
       "    }\n",
       "\n",
       "    .dataframe tbody tr th {\n",
       "        vertical-align: top;\n",
       "    }\n",
       "\n",
       "    .dataframe thead th {\n",
       "        text-align: right;\n",
       "    }\n",
       "</style>\n",
       "<table border=\"1\" class=\"dataframe\">\n",
       "  <thead>\n",
       "    <tr style=\"text-align: right;\">\n",
       "      <th></th>\n",
       "      <th>star_rating</th>\n",
       "      <th>title</th>\n",
       "      <th>content_rating</th>\n",
       "      <th>genre</th>\n",
       "      <th>duration</th>\n",
       "      <th>actors_list</th>\n",
       "    </tr>\n",
       "  </thead>\n",
       "  <tbody>\n",
       "    <tr>\n",
       "      <th>2</th>\n",
       "      <td>9.1</td>\n",
       "      <td>The Godfather: Part II</td>\n",
       "      <td>R</td>\n",
       "      <td>Crime</td>\n",
       "      <td>200</td>\n",
       "      <td>[u'Al Pacino', u'Robert De Niro', u'Robert Duv...</td>\n",
       "    </tr>\n",
       "    <tr>\n",
       "      <th>78</th>\n",
       "      <td>8.4</td>\n",
       "      <td>Once Upon a Time in America</td>\n",
       "      <td>R</td>\n",
       "      <td>Crime</td>\n",
       "      <td>229</td>\n",
       "      <td>[u'Robert De Niro', u'James Woods', u'Elizabet...</td>\n",
       "    </tr>\n",
       "  </tbody>\n",
       "</table>\n",
       "</div>"
      ],
      "text/plain": [
       "    star_rating                        title content_rating  genre  duration  \\\n",
       "2           9.1       The Godfather: Part II              R  Crime       200   \n",
       "78          8.4  Once Upon a Time in America              R  Crime       229   \n",
       "\n",
       "                                          actors_list  \n",
       "2   [u'Al Pacino', u'Robert De Niro', u'Robert Duv...  \n",
       "78  [u'Robert De Niro', u'James Woods', u'Elizabet...  "
      ]
     },
     "execution_count": 31,
     "metadata": {},
     "output_type": "execute_result"
    }
   ],
   "source": [
    "long_movie = df.duration >= 200\n",
    "great_movie = df.star_rating >= 8.0\n",
    "crime_genre = df.genre == 'Crime'\n",
    "good_long_crime_movies = df[long_movie & great_movie & crime_genre].copy()\n",
    "good_long_crime_movies.head()"
   ]
  },
  {
   "cell_type": "code",
   "execution_count": 32,
   "metadata": {},
   "outputs": [
    {
     "data": {
      "text/plain": [
       "array(['Crime', 'Action', 'Drama', 'Western', 'Adventure', 'Biography',\n",
       "       'Comedy', 'Animation', 'Mystery', 'Horror', 'Film-Noir', 'Sci-Fi',\n",
       "       'History', 'Thriller', 'Family', 'Fantasy'], dtype=object)"
      ]
     },
     "execution_count": 32,
     "metadata": {},
     "output_type": "execute_result"
    }
   ],
   "source": [
    "df.genre.unique()"
   ]
  },
  {
   "cell_type": "code",
   "execution_count": 33,
   "metadata": {
    "scrolled": false
   },
   "outputs": [
    {
     "data": {
      "text/html": [
       "<div>\n",
       "<style scoped>\n",
       "    .dataframe tbody tr th:only-of-type {\n",
       "        vertical-align: middle;\n",
       "    }\n",
       "\n",
       "    .dataframe tbody tr th {\n",
       "        vertical-align: top;\n",
       "    }\n",
       "\n",
       "    .dataframe thead th {\n",
       "        text-align: right;\n",
       "    }\n",
       "</style>\n",
       "<table border=\"1\" class=\"dataframe\">\n",
       "  <thead>\n",
       "    <tr style=\"text-align: right;\">\n",
       "      <th></th>\n",
       "      <th>star_rating</th>\n",
       "      <th>title</th>\n",
       "      <th>content_rating</th>\n",
       "      <th>genre</th>\n",
       "      <th>duration</th>\n",
       "      <th>actors_list</th>\n",
       "    </tr>\n",
       "  </thead>\n",
       "  <tbody>\n",
       "    <tr>\n",
       "      <th>26</th>\n",
       "      <td>8.6</td>\n",
       "      <td>Once Upon a Time in the West</td>\n",
       "      <td>PG-13</td>\n",
       "      <td>Western</td>\n",
       "      <td>175</td>\n",
       "      <td>[u'Henry Fonda', u'Charles Bronson', u'Claudia...</td>\n",
       "    </tr>\n",
       "    <tr>\n",
       "      <th>59</th>\n",
       "      <td>8.5</td>\n",
       "      <td>Django Unchained</td>\n",
       "      <td>R</td>\n",
       "      <td>Western</td>\n",
       "      <td>165</td>\n",
       "      <td>[u'Jamie Foxx', u'Christoph Waltz', u'Leonardo...</td>\n",
       "    </tr>\n",
       "    <tr>\n",
       "      <th>6</th>\n",
       "      <td>8.9</td>\n",
       "      <td>The Good, the Bad and the Ugly</td>\n",
       "      <td>NOT RATED</td>\n",
       "      <td>Western</td>\n",
       "      <td>161</td>\n",
       "      <td>[u'Clint Eastwood', u'Eli Wallach', u'Lee Van ...</td>\n",
       "    </tr>\n",
       "    <tr>\n",
       "      <th>107</th>\n",
       "      <td>8.3</td>\n",
       "      <td>For a Few Dollars More</td>\n",
       "      <td>APPROVED</td>\n",
       "      <td>Western</td>\n",
       "      <td>132</td>\n",
       "      <td>[u'Clint Eastwood', u'Lee Van Cleef', u'Gian M...</td>\n",
       "    </tr>\n",
       "    <tr>\n",
       "      <th>119</th>\n",
       "      <td>8.3</td>\n",
       "      <td>Unforgiven</td>\n",
       "      <td>R</td>\n",
       "      <td>Western</td>\n",
       "      <td>131</td>\n",
       "      <td>[u'Clint Eastwood', u'Gene Hackman', u'Morgan ...</td>\n",
       "    </tr>\n",
       "  </tbody>\n",
       "</table>\n",
       "</div>"
      ],
      "text/plain": [
       "     star_rating                           title content_rating    genre  \\\n",
       "26           8.6    Once Upon a Time in the West          PG-13  Western   \n",
       "59           8.5                Django Unchained              R  Western   \n",
       "6            8.9  The Good, the Bad and the Ugly      NOT RATED  Western   \n",
       "107          8.3          For a Few Dollars More       APPROVED  Western   \n",
       "119          8.3                      Unforgiven              R  Western   \n",
       "\n",
       "     duration                                        actors_list  \n",
       "26        175  [u'Henry Fonda', u'Charles Bronson', u'Claudia...  \n",
       "59        165  [u'Jamie Foxx', u'Christoph Waltz', u'Leonardo...  \n",
       "6         161  [u'Clint Eastwood', u'Eli Wallach', u'Lee Van ...  \n",
       "107       132  [u'Clint Eastwood', u'Lee Van Cleef', u'Gian M...  \n",
       "119       131  [u'Clint Eastwood', u'Gene Hackman', u'Morgan ...  "
      ]
     },
     "execution_count": 33,
     "metadata": {},
     "output_type": "execute_result"
    }
   ],
   "source": [
    "western_movie = df.genre == 'Western'\n",
    "good_movie = df.star_rating >= 6.0\n",
    "good_western_movies = df[(western_movie) & (good_movie)].copy()\n",
    "good_western_movies.head().sort_values(by=['duration', 'star_rating'], ascending=False)"
   ]
  },
  {
   "cell_type": "code",
   "execution_count": 35,
   "metadata": {
    "scrolled": true
   },
   "outputs": [
    {
     "data": {
      "text/html": [
       "<div>\n",
       "<style scoped>\n",
       "    .dataframe tbody tr th:only-of-type {\n",
       "        vertical-align: middle;\n",
       "    }\n",
       "\n",
       "    .dataframe tbody tr th {\n",
       "        vertical-align: top;\n",
       "    }\n",
       "\n",
       "    .dataframe thead th {\n",
       "        text-align: right;\n",
       "    }\n",
       "</style>\n",
       "<table border=\"1\" class=\"dataframe\">\n",
       "  <thead>\n",
       "    <tr style=\"text-align: right;\">\n",
       "      <th></th>\n",
       "      <th>star_rating</th>\n",
       "      <th>title</th>\n",
       "      <th>content_rating</th>\n",
       "      <th>genre</th>\n",
       "      <th>duration</th>\n",
       "      <th>actors_list</th>\n",
       "    </tr>\n",
       "  </thead>\n",
       "  <tbody>\n",
       "    <tr>\n",
       "      <th>25</th>\n",
       "      <td>8.6</td>\n",
       "      <td>Life Is Beautiful</td>\n",
       "      <td>PG-13</td>\n",
       "      <td>Comedy</td>\n",
       "      <td>116</td>\n",
       "      <td>[u'Roberto Benigni', u'Nicoletta Braschi', u'G...</td>\n",
       "    </tr>\n",
       "    <tr>\n",
       "      <th>35</th>\n",
       "      <td>8.6</td>\n",
       "      <td>Modern Times</td>\n",
       "      <td>G</td>\n",
       "      <td>Comedy</td>\n",
       "      <td>87</td>\n",
       "      <td>[u'Charles Chaplin', u'Paulette Goddard', u'He...</td>\n",
       "    </tr>\n",
       "    <tr>\n",
       "      <th>29</th>\n",
       "      <td>8.6</td>\n",
       "      <td>City Lights</td>\n",
       "      <td>PASSED</td>\n",
       "      <td>Comedy</td>\n",
       "      <td>87</td>\n",
       "      <td>[u'Charles Chaplin', u'Virginia Cherrill', u'F...</td>\n",
       "    </tr>\n",
       "    <tr>\n",
       "      <th>48</th>\n",
       "      <td>8.5</td>\n",
       "      <td>Dr. Strangelove or: How I Learned to Stop Worr...</td>\n",
       "      <td>PG</td>\n",
       "      <td>Comedy</td>\n",
       "      <td>95</td>\n",
       "      <td>[u'Peter Sellers', u'George C. Scott', u'Sterl...</td>\n",
       "    </tr>\n",
       "    <tr>\n",
       "      <th>52</th>\n",
       "      <td>8.5</td>\n",
       "      <td>The Great Dictator</td>\n",
       "      <td>APPROVED</td>\n",
       "      <td>Comedy</td>\n",
       "      <td>125</td>\n",
       "      <td>[u'Charles Chaplin', u'Paulette Goddard', u'Ja...</td>\n",
       "    </tr>\n",
       "  </tbody>\n",
       "</table>\n",
       "</div>"
      ],
      "text/plain": [
       "    star_rating                                              title  \\\n",
       "25          8.6                                  Life Is Beautiful   \n",
       "35          8.6                                       Modern Times   \n",
       "29          8.6                                        City Lights   \n",
       "48          8.5  Dr. Strangelove or: How I Learned to Stop Worr...   \n",
       "52          8.5                                 The Great Dictator   \n",
       "\n",
       "   content_rating   genre  duration  \\\n",
       "25          PG-13  Comedy       116   \n",
       "35              G  Comedy        87   \n",
       "29         PASSED  Comedy        87   \n",
       "48             PG  Comedy        95   \n",
       "52       APPROVED  Comedy       125   \n",
       "\n",
       "                                          actors_list  \n",
       "25  [u'Roberto Benigni', u'Nicoletta Braschi', u'G...  \n",
       "35  [u'Charles Chaplin', u'Paulette Goddard', u'He...  \n",
       "29  [u'Charles Chaplin', u'Virginia Cherrill', u'F...  \n",
       "48  [u'Peter Sellers', u'George C. Scott', u'Sterl...  \n",
       "52  [u'Charles Chaplin', u'Paulette Goddard', u'Ja...  "
      ]
     },
     "execution_count": 35,
     "metadata": {},
     "output_type": "execute_result"
    }
   ],
   "source": [
    "comedy_movie = df.genre == 'Comedy'\n",
    "fantasy_movie = df.genre == 'Fantasy'\n",
    "hilarious_fantasy_movies = df[(comedy_movie) | (fantasy_movie) & (great_movie)].copy()\n",
    "hilarious_fantasy_movies.sort_values(by='star_rating', ascending=False).head()"
   ]
  },
  {
   "cell_type": "code",
   "execution_count": 44,
   "metadata": {},
   "outputs": [
    {
     "name": "stdout",
     "output_type": "stream",
     "text": [
      "    star_rating        title content_rating    genre  duration  \\\n",
      "38          8.6  Rear Window       APPROVED  Mystery       112   \n",
      "39          8.6       Psycho              R   Horror       109   \n",
      "46          8.5      Memento              R  Mystery       113   \n",
      "57          8.5        Alien              R   Horror       117   \n",
      "62          8.5  The Shining              R   Horror       146   \n",
      "\n",
      "                                          actors_list  \n",
      "38  [u'James Stewart', u'Grace Kelly', u'Wendell C...  \n",
      "39  [u'Anthony Perkins', u'Janet Leigh', u'Vera Mi...  \n",
      "46  [u'Guy Pearce', u'Carrie-Anne Moss', u'Joe Pan...  \n",
      "57  [u'Sigourney Weaver', u'Tom Skerritt', u'John ...  \n",
      "62  [u'Jack Nicholson', u'Shelley Duvall', u'Danny...  \n",
      "(50, 6)\n"
     ]
    }
   ],
   "source": [
    "horror_mystery_thriller_genre = ['Horror', 'Mystery', 'Thriller']\n",
    "horror_mystery_thriller_genre_movies = df[df['genre'].isin(horror_mystery_thriller_genre)].copy()\n",
    "print(horror_mystery_thriller_genre_movies.head().sort_values(by='star_rating', ascending=False))\n",
    "print(horror_mystery_thriller_genre_movies.shape)"
   ]
  }
 ],
 "metadata": {
  "kernelspec": {
   "display_name": "Python 3",
   "language": "python",
   "name": "python3"
  },
  "language_info": {
   "codemirror_mode": {
    "name": "ipython",
    "version": 3
   },
   "file_extension": ".py",
   "mimetype": "text/x-python",
   "name": "python",
   "nbconvert_exporter": "python",
   "pygments_lexer": "ipython3",
   "version": "3.6.8"
  }
 },
 "nbformat": 4,
 "nbformat_minor": 2
}
